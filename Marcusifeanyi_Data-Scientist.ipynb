{
 "cells": [
  {
   "cell_type": "markdown",
   "metadata": {},
   "source": [
    "<center>\n",
    "    <img src=\"https://s3-api.us-geo.objectstorage.softlayer.net/cf-courses-data/CognitiveClass/Logos/organization_logo/organization_logo.png\" width=\"300\" alt=\"cognitiveclass.ai logo\"  />\n",
    "</center>\n"
   ]
  },
  {
   "cell_type": "markdown",
   "metadata": {},
   "source": [
    "#### Add your code below following the instructions given in the course\n"
   ]
  },
  {
   "cell_type": "markdown",
   "metadata": {},
   "source": [
    "# My Jupyter Notebook on IBM Watson Studio"
   ]
  },
  {
   "cell_type": "markdown",
   "metadata": {},
   "source": [
    "**AGBAJI MARCUS IFEANYI** <br> I am currently a student studying Electrical Engineering and I want to add Data Scientist to my career."
   ]
  },
  {
   "cell_type": "markdown",
   "metadata": {},
   "source": [
    "*I am interested in data science because I love working with data, and I love how data is used to draw insights and make accurate predictions. <br> Also data science is a fast-growing field and are paid very well too so also want to learn its skill for personal enrichment.*"
   ]
  },
  {
   "cell_type": "code",
   "execution_count": 1,
   "metadata": {},
   "outputs": [
    {
     "name": "stdout",
     "output_type": "stream",
     "text": [
      "john May review my work\n",
      "Williams May review my work\n",
      "Jennifer May review my work\n",
      "Grace May review my work\n",
      "Coursera is the best platform to learn\n"
     ]
    }
   ],
   "source": [
    "names = [\"john\", \"Williams\", \"Jennifer\",\"Grace\",\"Coursera\"]\n",
    "for name in names:\n",
    "    if (name == \"Coursera\"):\n",
    "        print(name,\"is the best platform to learn\")\n",
    "    else:\n",
    "        print(name,\"May review my work\")"
   ]
  },
  {
   "cell_type": "markdown",
   "metadata": {},
   "source": [
    "NAMES OF FRUITS (Unordered)<br>\n",
    "- Apple \n",
    "- Oranges\n",
    "- Mangoes\n",
    "- Pineapples"
   ]
  },
  {
   "cell_type": "markdown",
   "metadata": {},
   "source": [
    "NAMES OF FRUITS (Ordered)<br>\n",
    "1. Apple \n",
    "2. Oranges\n",
    "3. Mangoes\n",
    "4. Pineapples"
   ]
  },
  {
   "cell_type": "markdown",
   "metadata": {},
   "source": [
    "| NAMES | SCORE | REMARKS |\n",
    "| ------ |:-----:| --------:|\n",
    "| Marcus | 100% | He is a brilliant student.|\n",
    "|John | 90% | He did well |\n",
    "|Grace| 95% | She performed very well|"
   ]
  },
  {
   "cell_type": "markdown",
   "metadata": {},
   "source": [
    "[HOVER YOUR MOUSE TO SEE TITLE](https://images.app.goo.gl/XwGh347HXZjLEzWz7 \"YOU ARE ADORABLE\")"
   ]
  },
  {
   "cell_type": "markdown",
   "metadata": {},
   "source": [
    "Cute dog:\n",
    "![picture of my pet](https://images.app.goo.gl/ykEccwyoe2GivPUaA \"My cute pet\")"
   ]
  },
  {
   "cell_type": "markdown",
   "metadata": {},
   "source": [
    "~~NO SACRIFISE NO VICTORY~~\n",
    "***\n",
    "<font color=green>NO SACRIFICE NO VICTORY</font>"
   ]
  },
  {
   "cell_type": "code",
   "execution_count": null,
   "metadata": {},
   "outputs": [],
   "source": []
  }
 ],
 "metadata": {
  "kernelspec": {
   "display_name": "Python",
   "language": "python",
   "name": "conda-env-python-py"
  },
  "language_info": {
   "codemirror_mode": {
    "name": "ipython",
    "version": 3
   },
   "file_extension": ".py",
   "mimetype": "text/x-python",
   "name": "python",
   "nbconvert_exporter": "python",
   "pygments_lexer": "ipython3",
   "version": "3.7.12"
  }
 },
 "nbformat": 4,
 "nbformat_minor": 4
}
